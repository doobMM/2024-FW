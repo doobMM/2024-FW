{
 "cells": [
  {
   "cell_type": "markdown",
   "id": "671638b0",
   "metadata": {},
   "source": [
    "### i want to change, definitely maybe"
   ]
  },
  {
   "cell_type": "markdown",
   "id": "9113d177",
   "metadata": {},
   "source": [
    "* for some patent issue of code which was used in boostcourse, i got it deleted for permanent log to be left as my very first try to connect my local envir and git remotely"
   ]
  }
 ],
 "metadata": {
  "kernelspec": {
   "display_name": "Python 3 (ipykernel)",
   "language": "python",
   "name": "python3"
  },
  "language_info": {
   "codemirror_mode": {
    "name": "ipython",
    "version": 3
   },
   "file_extension": ".py",
   "mimetype": "text/x-python",
   "name": "python",
   "nbconvert_exporter": "python",
   "pygments_lexer": "ipython3",
   "version": "3.12.3"
  }
 },
 "nbformat": 4,
 "nbformat_minor": 5
}
